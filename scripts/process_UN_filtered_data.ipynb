{
 "cells": [
  {
   "cell_type": "code",
   "execution_count": null,
   "id": "f5e7042b-f988-49f7-813b-68d3ef170c5d",
   "metadata": {},
   "outputs": [],
   "source": [
    "!pip3 install accelerate\n",
    "!pip3 install huggingface-hub\n",
    "!pip3 install safetensors\n",
    "!pip3 install torch\n",
    "!pip3 install transformers"
   ]
  },
  {
   "cell_type": "code",
   "execution_count": null,
   "id": "41443a1a-a1c3-4186-bdb7-ef375f956829",
   "metadata": {},
   "outputs": [],
   "source": [
    "import pandas as pd\n",
    "from pathlib import Path"
   ]
  },
  {
   "cell_type": "code",
   "execution_count": null,
   "id": "8c75be4d-c823-4a80-8d49-c4fee5e9e0c4",
   "metadata": {},
   "outputs": [],
   "source": [
    "input_dir = Path(\"/xdisk/josorio1/aconverse/UN_data/output/\")\n",
    "\n",
    "relevant_irrelevant = pd.read_csv(input_dir / \"relevant_irrelevant.csv\")\n",
    "relevant_irrelevant[\"relevant\"] = relevant_irrelevant[\"label\"]\n",
    "\n",
    "matconf = pd.read_csv(input_dir / \"mat_conf.csv\")\n",
    "matconf[\"matconf\"] = matconf[\"label\"]\n",
    "matconf = matconf[[\"id\",\"matconf\"]]\n",
    "\n",
    "matcoop = pd.read_csv(input_dir / \"mat_coop.csv\")\n",
    "matcoop[\"matcoop\"] = matcoop[\"label\"]\n",
    "matcoop = matcoop[[\"id\",\"matcoop\"]]\n",
    "\n",
    "verconf = pd.read_csv(input_dir / \"ver_conf.csv\")\n",
    "verconf[\"verconf\"] = verconf[\"label\"]\n",
    "verconf = verconf[[\"id\",\"verconf\"]]\n",
    "\n",
    "vercoop = pd.read_csv(input_dir / \"ver_coop.csv\")\n",
    "vercoop[\"vercoop\"] = vercoop[\"label\"]\n",
    "vercoop = vercoop[[\"id\",\"vercoop\"]]\n",
    "\n",
    "full_df = relevant_irrelevant.merge(matconf, on=\"id\")\n",
    "full_df = full_df.merge(matcoop, on=\"id\")\n",
    "full_df = full_df.merge(verconf, on=\"id\")\n",
    "full_df = full_df.merge(vercoop, on=\"id\")\n",
    "\n",
    "full_df.drop(columns=[\"label\"], inplace=True)\n",
    "\n",
    "full_df.to_csv(input_dir / \"full_labeled.csv\", index=False)"
   ]
  },
  {
   "cell_type": "code",
   "execution_count": null,
   "id": "cff279ef-6cb5-4b0f-a1fc-6c50dbe119ac",
   "metadata": {},
   "outputs": [],
   "source": [
    "full_df"
   ]
  },
  {
   "cell_type": "code",
   "execution_count": null,
   "id": "f10a8069-b78f-45c9-b500-0645133608ab",
   "metadata": {},
   "outputs": [],
   "source": [
    "irrelevant = full_df[full_df[\"relevant\"] == 0]\n",
    "matconf = full_df[full_df[\"matconf\"] == 1]\n",
    "matcoop = full_df[full_df[\"matcoop\"] == 1]\n",
    "verconf = full_df[full_df[\"verconf\"] == 1]\n",
    "vercoop = full_df[full_df[\"vercoop\"] == 1]\n",
    "\n",
    "already_annotated = pd.read_csv(\"/xdisk/josorio1/aconverse/UN_data/data_master.csv\")\n",
    "\n",
    "min_category = min(len(df) for df in [irrelevant, matconf, matcoop, verconf, vercoop])\n",
    "\n",
    "balanced_df = pd.concat([irrelevant[:min_category],\n",
    "                         matconf[:min_category],\n",
    "                         matcoop[:min_category],\n",
    "                         verconf[:min_category],\n",
    "                         vercoop[:min_category]])\n",
    "\n",
    "balanced_df = balanced_df.drop_duplicates(subset=\"id\", keep=False)\n",
    "\n",
    "print(len(balanced_df))\n",
    "\n",
    "balanced_df = balanced_df[~balanced_df[\"id\"].isin(already_annotated[\"id\"])]\n",
    "balanced_df = balanced_df.sample(frac=1)\n",
    "\n",
    "balanced_df = balanced_df.drop_duplicates(subset=\"id\")\n",
    "\n",
    "balanced_df.to_csv(input_dir / \"balanced.csv\", index=False)\n",
    "\n",
    "balanced_df.drop(columns=[\"relevant\", \"matconf\", \"matcoop\", \"verconf\", \"vercoop\", \"Unnamed: 0\"], inplace=True)\n",
    "\n",
    "print(len(balanced_df))\n",
    "balanced_df.to_csv(input_dir / \"balanced_hidden_labels.csv\", index=False)"
   ]
  },
  {
   "cell_type": "code",
   "execution_count": null,
   "id": "dd48419e-cd73-4987-83f6-b3ea03b59a45",
   "metadata": {},
   "outputs": [],
   "source": [
    "batch_num = 1\n",
    "for i in range(180, len(balanced_df), 180):\n",
    "    balanced_df.iloc[i-180:i].to_csv(input_dir / f\"batches/batch_{batch_num}.csv\", index=False)\n",
    "    batch_num += 1"
   ]
  },
  {
   "cell_type": "code",
   "execution_count": null,
   "id": "8153c216-1314-4b2b-ac8a-03ed3d543322",
   "metadata": {},
   "outputs": [],
   "source": []
  }
 ],
 "metadata": {
  "kernelspec": {
   "display_name": "Python 3 (ipykernel)",
   "language": "python",
   "name": "python3"
  },
  "language_info": {
   "codemirror_mode": {
    "name": "ipython",
    "version": 3
   },
   "file_extension": ".py",
   "mimetype": "text/x-python",
   "name": "python",
   "nbconvert_exporter": "python",
   "pygments_lexer": "ipython3",
   "version": "3.8.12"
  }
 },
 "nbformat": 4,
 "nbformat_minor": 5
}
